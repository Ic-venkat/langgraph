{
 "cells": [
  {
   "cell_type": "code",
   "execution_count": 2,
   "metadata": {},
   "outputs": [],
   "source": [
    "from dotenv import find_dotenv,load_dotenv\n",
    "from pprint import pprint\n",
    "load_dotenv(find_dotenv(), override=True)\n",
    "import os\n",
    "\n",
    "os.environ[\"LANGCHAIN_PROJECT\"]=\"raglanggraph\""
   ]
  },
  {
   "cell_type": "code",
   "execution_count": 3,
   "metadata": {},
   "outputs": [],
   "source": [
    "from langchain.pydantic_v1 import BaseModel, Field\n",
    "from langchain.tools import StructuredTool"
   ]
  },
  {
   "cell_type": "code",
   "execution_count": 41,
   "metadata": {},
   "outputs": [],
   "source": [
    "from typing import TypedDict, Annotated, List, Union\n",
    "from langchain_core.agents import AgentAction, AgentFinish\n",
    "from langchain_core.messages import BaseMessage\n",
    "import operator\n",
    "\n",
    "class AgentState(TypedDict):\n",
    "    input: str\n",
    "    chat_history: list[BaseMessage]\n",
    "    agent_outcome: Union[AgentAction, AgentFinish, None]\n",
    "    intermediate_steps: Annotated[list[tuple[AgentAction, str]], operator.add]"
   ]
  },
  {
   "cell_type": "code",
   "execution_count": 32,
   "metadata": {},
   "outputs": [],
   "source": [
    "from langchain.tools import BaseTool, StructuredTool, Tool, tool\n",
    "import random\n",
    "\n",
    "@tool(\"lower_case\", return_direct=True)\n",
    "def to_lower_case(input: str)->str:\n",
    "    \"\"\"Returns the input as all lower case\"\"\"\n",
    "    return input.lower()\n",
    "\n",
    "@tool(\"random_number\", return_direct=True)\n",
    "def random_number_maker(input:str)->str:\n",
    "    \"\"\"Returns a random number between 0-100\"\"\"\n",
    "    return random.randint(1,100)\n",
    "\n",
    "tools = [to_lower_case, random_number_maker]"
   ]
  },
  {
   "cell_type": "code",
   "execution_count": 33,
   "metadata": {},
   "outputs": [],
   "source": [
    "from langchain  import hub\n",
    "from langchain.agents import create_openai_functions_agent\n",
    "from langchain_openai.chat_models import ChatOpenAI\n",
    "\n",
    "prompt = hub.pull(\"hwchase17/openai-functions-agent\")\n",
    "\n",
    "llm = ChatOpenAI(model=\"gpt-3.5-turbo-1106\", streaming=True)\n",
    "\n",
    "agent_runnable = create_openai_functions_agent(\n",
    "    llm,\n",
    "    tools,\n",
    "    prompt\n",
    ")"
   ]
  },
  {
   "cell_type": "code",
   "execution_count": 34,
   "metadata": {},
   "outputs": [],
   "source": [
    "inputs = {\n",
    "    \"input\": \"Give me a random number and then write in word to make it lower case.\",\n",
    "    \"chat_history\": [],\n",
    "    \"intermediate_steps\": []\n",
    "}"
   ]
  },
  {
   "cell_type": "code",
   "execution_count": 35,
   "metadata": {},
   "outputs": [],
   "source": [
    "agent_outcome = agent_runnable.invoke(inputs)"
   ]
  },
  {
   "cell_type": "code",
   "execution_count": 37,
   "metadata": {},
   "outputs": [],
   "source": [
    "from langgraph.prebuilt.tool_executor import ToolExecutor\n",
    "\n",
    "tool_executor = ToolExecutor(tools)"
   ]
  },
  {
   "cell_type": "code",
   "execution_count": 38,
   "metadata": {},
   "outputs": [],
   "source": [
    "def run_agent(data):\n",
    "    agent_outcome = agent_runnable.invoke(data)\n",
    "    return {\"agent_outcome\": agent_outcome}\n",
    "\n",
    "def execute_tools(data):\n",
    "    agent_action = data[\"agent_outcome\"]\n",
    "    output = tool_executor.invoke(agent_action)\n",
    "    print(f\"agent action is {agent_action}\")\n",
    "    print(f\"The tool result is: {output}\")\n",
    "    return {\"intermediate_steps\": [(agent_action, str(output))]}\n",
    "\n",
    "def should_continue(data):\n",
    "    \n",
    "    if(isinstance(data['agent_outcome'], AgentFinish)):\n",
    "        return \"end\"\n",
    "    else:\n",
    "        return \"continue\""
   ]
  },
  {
   "cell_type": "code",
   "execution_count": 42,
   "metadata": {},
   "outputs": [],
   "source": [
    "from langgraph.graph import END, StateGraph\n",
    "\n",
    "workflow = StateGraph(AgentState)\n",
    "\n",
    "workflow.add_node(\"agent\", run_agent)\n",
    "workflow.add_node(\"action\", execute_tools)\n",
    "\n",
    "workflow.set_entry_point(\"agent\")\n",
    "\n",
    "workflow.add_conditional_edges(\n",
    "    \"agent\",\n",
    "    should_continue,\n",
    "    {\n",
    "        \"continue\": \"action\",\n",
    "        \"end\": END\n",
    "    }\n",
    ")\n",
    "\n",
    "workflow.add_edge(\"action\",\"agent\")\n",
    "\n",
    "app = workflow.compile()\n"
   ]
  },
  {
   "cell_type": "code",
   "execution_count": 43,
   "metadata": {},
   "outputs": [],
   "source": [
    "input = {\n",
    "    \"input\": \"give me a random number and them write in words and make it lower case\", \"chat_history\": []\n",
    "}"
   ]
  },
  {
   "cell_type": "code",
   "execution_count": 44,
   "metadata": {},
   "outputs": [
    {
     "name": "stdout",
     "output_type": "stream",
     "text": [
      "agent action is tool='random_number' tool_input={'input': 'random number'} log=\"\\nInvoking: `random_number` with `{'input': 'random number'}`\\n\\n\\n\" message_log=[AIMessage(content='', additional_kwargs={'function_call': {'arguments': '{\"input\":\"random number\"}', 'name': 'random_number'}}, response_metadata={'finish_reason': 'function_call'}, id='run-e1ece6be-900d-4eef-bff7-7063e0a0e947-0')]\n",
      "The tool result is: 55\n",
      "agent action is tool='lower_case' tool_input={'input': 'FIFTY-FIVE'} log=\"\\nInvoking: `lower_case` with `{'input': 'FIFTY-FIVE'}`\\n\\n\\n\" message_log=[AIMessage(content='', additional_kwargs={'function_call': {'arguments': '{\"input\":\"FIFTY-FIVE\"}', 'name': 'lower_case'}}, response_metadata={'finish_reason': 'function_call'}, id='run-c635cfc4-2631-4ba8-ab9b-1e94e613af63-0')]\n",
      "The tool result is: fifty-five\n"
     ]
    }
   ],
   "source": [
    "output = app.invoke(input)"
   ]
  },
  {
   "cell_type": "code",
   "execution_count": 45,
   "metadata": {},
   "outputs": [
    {
     "data": {
      "text/plain": [
       "{'input': 'give me a random number and them write in words and make it lower case',\n",
       " 'chat_history': [],\n",
       " 'agent_outcome': AgentFinish(return_values={'output': 'The random number is 55, and in words, it is \"fifty-five\".'}, log='The random number is 55, and in words, it is \"fifty-five\".'),\n",
       " 'intermediate_steps': [(AgentActionMessageLog(tool='random_number', tool_input={'input': 'random number'}, log=\"\\nInvoking: `random_number` with `{'input': 'random number'}`\\n\\n\\n\", message_log=[AIMessage(content='', additional_kwargs={'function_call': {'arguments': '{\"input\":\"random number\"}', 'name': 'random_number'}}, response_metadata={'finish_reason': 'function_call'}, id='run-e1ece6be-900d-4eef-bff7-7063e0a0e947-0')]),\n",
       "   '55'),\n",
       "  (AgentActionMessageLog(tool='lower_case', tool_input={'input': 'FIFTY-FIVE'}, log=\"\\nInvoking: `lower_case` with `{'input': 'FIFTY-FIVE'}`\\n\\n\\n\", message_log=[AIMessage(content='', additional_kwargs={'function_call': {'arguments': '{\"input\":\"FIFTY-FIVE\"}', 'name': 'lower_case'}}, response_metadata={'finish_reason': 'function_call'}, id='run-c635cfc4-2631-4ba8-ab9b-1e94e613af63-0')]),\n",
       "   'fifty-five')]}"
      ]
     },
     "execution_count": 45,
     "metadata": {},
     "output_type": "execute_result"
    }
   ],
   "source": [
    "output"
   ]
  },
  {
   "cell_type": "code",
   "execution_count": null,
   "metadata": {},
   "outputs": [],
   "source": []
  }
 ],
 "metadata": {
  "kernelspec": {
   "display_name": ".venv",
   "language": "python",
   "name": "python3"
  },
  "language_info": {
   "codemirror_mode": {
    "name": "ipython",
    "version": 3
   },
   "file_extension": ".py",
   "mimetype": "text/x-python",
   "name": "python",
   "nbconvert_exporter": "python",
   "pygments_lexer": "ipython3",
   "version": "3.11.9"
  }
 },
 "nbformat": 4,
 "nbformat_minor": 2
}
