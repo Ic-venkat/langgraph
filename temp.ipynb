{
 "cells": [
  {
   "cell_type": "code",
   "execution_count": 1,
   "metadata": {},
   "outputs": [
    {
     "data": {
      "text/plain": [
       "True"
      ]
     },
     "execution_count": 1,
     "metadata": {},
     "output_type": "execute_result"
    }
   ],
   "source": [
    "from dotenv import find_dotenv,load_dotenv\n",
    "from pprint import pprint\n",
    "load_dotenv(find_dotenv(), override=True)"
   ]
  },
  {
   "cell_type": "code",
   "execution_count": 1,
   "metadata": {},
   "outputs": [],
   "source": [
    "from langchain.pydantic_v1 import BaseModel, Field\n",
    "from langchain.tools import StructuredTool"
   ]
  },
  {
   "cell_type": "code",
   "execution_count": 6,
   "metadata": {},
   "outputs": [],
   "source": [
    "class MultiplierInput(BaseModel):\n",
    "    a: int = Field(description=\"First number\")\n",
    "    b: int = Field(description = \"Second number\")\n",
    "    \n",
    "def multiply(a: int, b:int)->int:\n",
    "    return a*b\n",
    "\n",
    "multiplier = StructuredTool.from_function(\n",
    "    func=multiply,\n",
    "    name=\"Multiplier\",\n",
    "    description=\"Multiply two numbers\",\n",
    "    args_schema=MultiplierInput,\n",
    "    return_direct=False\n",
    ")"
   ]
  },
  {
   "cell_type": "code",
   "execution_count": 9,
   "metadata": {},
   "outputs": [
    {
     "data": {
      "text/plain": [
       "20"
      ]
     },
     "execution_count": 9,
     "metadata": {},
     "output_type": "execute_result"
    }
   ],
   "source": [
    "multiplier.run({\"a\": 10,\"b\": 2})"
   ]
  },
  {
   "cell_type": "code",
   "execution_count": 27,
   "metadata": {},
   "outputs": [],
   "source": [
    "class AdderInput(BaseModel):\n",
    "    a: int = Field(description = \"First number\")\n",
    "    b: int= Field(description= \"Second number\")\n",
    "    \n",
    "def addnum(a:int, b:int)->int:\n",
    "    return a+b\n",
    "\n",
    "adder = StructuredTool.from_function(\n",
    "    func = addnum,\n",
    "    name=\"addition\",\n",
    "    description=\"add two numbers\",\n",
    "    args_schema=AdderInput,\n",
    "    return_direct=False\n",
    ")\n",
    "    "
   ]
  },
  {
   "cell_type": "code",
   "execution_count": 28,
   "metadata": {},
   "outputs": [],
   "source": [
    "tools = [multiplier, adder]"
   ]
  },
  {
   "cell_type": "code",
   "execution_count": 29,
   "metadata": {},
   "outputs": [
    {
     "data": {
      "text/plain": [
       "30"
      ]
     },
     "execution_count": 29,
     "metadata": {},
     "output_type": "execute_result"
    }
   ],
   "source": [
    "adder.run({\"a\":10, \"b\":20})"
   ]
  },
  {
   "cell_type": "code",
   "execution_count": 30,
   "metadata": {},
   "outputs": [],
   "source": [
    "from langgraph.prebuilt import ToolExecutor\n",
    "\n",
    "tool_executor = ToolExecutor(tools)"
   ]
  },
  {
   "cell_type": "code",
   "execution_count": 31,
   "metadata": {},
   "outputs": [],
   "source": [
    "from langchain_core.pydantic_v1 import BaseModel, Field\n",
    "\n",
    "class Response(BaseModel):\n",
    "    \"\"\"Final answer to the user\"\"\"\n",
    "    result:int = Field(description = \"the result of the computation\")\n",
    "    explanation:str = Field(\n",
    "        description = \"Explanation of the steps taken to get the result\"\n",
    "    )"
   ]
  },
  {
   "cell_type": "code",
   "execution_count": 32,
   "metadata": {},
   "outputs": [],
   "source": [
    "from langchain_openai import ChatOpenAI\n",
    "from langchain.tools.render import format_tool_to_openai_function\n",
    "from langchain_core.utils.function_calling import convert_pydantic_to_openai_function\n",
    "\n",
    "llm = ChatOpenAI(model=\"gpt-3.5-turbo-1106\", temperature=0,streaming=True)\n",
    "\n",
    "functions = [format_tool_to_openai_function(i) for i in tools]\n",
    "functions.append(convert_pydantic_to_openai_function(Response))\n",
    "\n",
    "model = llm.bind_functions(functions)"
   ]
  },
  {
   "cell_type": "code",
   "execution_count": 33,
   "metadata": {},
   "outputs": [],
   "source": [
    "from typing import TypedDict, Annotated, Sequence\n",
    "import operator\n",
    "from langchain_core.messages import BaseMessage\n",
    "\n",
    "\n",
    "class AgentState(TypedDict):\n",
    "    messages: Annotated[Sequence[BaseMessage], operator.add]"
   ]
  },
  {
   "cell_type": "code",
   "execution_count": 34,
   "metadata": {},
   "outputs": [],
   "source": [
    "from langgraph.prebuilt import ToolInvocation\n",
    "import json\n",
    "from langchain_core.messages import FunctionMessage\n",
    "\n",
    "# Define the function that determines whether to continue or not\n",
    "def should_continue(state):\n",
    "    messages = state[\"messages\"]\n",
    "    last_message = messages[-1]\n",
    "    # If there is no function call, then we finish\n",
    "    if \"function_call\" not in last_message.additional_kwargs:\n",
    "        return \"end\"\n",
    "    elif last_message.additional_kwargs[\"function_call\"][\"name\"] == \"Response\":\n",
    "        return \"end\"\n",
    "    # Otherwise if there is, we continue\n",
    "    else:\n",
    "        return \"continue\"\n",
    "\n",
    "\n",
    "# Define the function that calls the model\n",
    "def call_model(state):\n",
    "    messages = state[\"messages\"]\n",
    "    response = model.invoke(messages)\n",
    "    # We return a list, because this will get added to the existing list\n",
    "    return {\"messages\": [response]}\n",
    "\n",
    "\n",
    "# Define the function to execute tools\n",
    "def call_tool(state):\n",
    "    messages = state[\"messages\"]\n",
    "    # Based on the continue condition\n",
    "    # we know the last message involves a function call\n",
    "    last_message = messages[-1]\n",
    "    # We construct an ToolInvocation from the function_call\n",
    "    action = ToolInvocation(\n",
    "        tool=last_message.additional_kwargs[\"function_call\"][\"name\"],\n",
    "        tool_input=json.loads(\n",
    "            last_message.additional_kwargs[\"function_call\"][\"arguments\"]\n",
    "        ),\n",
    "    )\n",
    "\n",
    "    # response = input(prompt=f\"[y/n] continue with: {action}?\")\n",
    "    # if response == \"n\":\n",
    "    #     raise ValueError(\"User cancelled\")\n",
    "    \n",
    "    # We call the tool_executor and get back a response\n",
    "    response = tool_executor.invoke(action)\n",
    "    # We use the response to create a FunctionMessage\n",
    "    function_message = FunctionMessage(content=str(response), name=action.tool)\n",
    "    # We return a list, because this will get added to the existing list\n",
    "    return {\"messages\": [function_message]}"
   ]
  },
  {
   "cell_type": "code",
   "execution_count": 35,
   "metadata": {},
   "outputs": [],
   "source": [
    "from langgraph.graph import StateGraph, END\n",
    "\n",
    "# Initialize a new graph\n",
    "graph = StateGraph(AgentState)\n",
    "\n",
    "# Define the two \"Nodes\"\" we will cycle between\n",
    "graph.add_node(\"agent\", call_model)\n",
    "graph.add_node(\"action\", call_tool)\n",
    "\n",
    "# Define all our \"Edges\"\n",
    "# Set the \"Starting Edge\" as \"agent\"\n",
    "# This means that this node is the first one called\n",
    "graph.set_entry_point(\"agent\")\n",
    "\n",
    "# We now add a \"Conditional Edge\"\n",
    "# Conditinal agents take:\n",
    "# - A start node\n",
    "# - A function that determines which node to call next\n",
    "# - A mapping of the output of the function to the next node to call\n",
    "graph.add_conditional_edges(\n",
    "    \"agent\",\n",
    "    should_continue,\n",
    "    {\n",
    "        \"continue\": \"action\",\n",
    "        # END is a special node marking that the graph should finish.\n",
    "        \"end\": END,\n",
    "    },\n",
    ")\n",
    "\n",
    "# We now add a \"Normal Edge\" that should always be called after another\n",
    "graph.add_edge(\"action\", \"agent\")\n",
    "\n",
    "# We compile the entire workflow as a runnable\n",
    "app = graph.compile()"
   ]
  },
  {
   "cell_type": "code",
   "execution_count": 36,
   "metadata": {},
   "outputs": [
    {
     "name": "stdout",
     "output_type": "stream",
     "text": [
      "Output from node 'agent':\n",
      "---\n",
      "{'messages': [AIMessage(content='', additional_kwargs={'function_call': {'arguments': '{\"a\":37,\"b\":49}', 'name': 'Multiplier'}}, response_metadata={'finish_reason': 'function_call'}, id='run-28832d08-ac54-430d-8af5-2d583db8cf98-0')]}\n",
      "\n",
      "---\n",
      "\n",
      "Output from node 'action':\n",
      "---\n",
      "{'messages': [FunctionMessage(content='1813', name='Multiplier')]}\n",
      "\n",
      "---\n",
      "\n",
      "Output from node 'agent':\n",
      "---\n",
      "{'messages': [AIMessage(content='', additional_kwargs={'function_call': {'arguments': '{\"a\":1813,\"b\":42}', 'name': 'addition'}}, response_metadata={'finish_reason': 'function_call'}, id='run-bdc465fb-5363-4603-84ba-04a559571a40-0')]}\n",
      "\n",
      "---\n",
      "\n",
      "Output from node 'action':\n",
      "---\n",
      "{'messages': [FunctionMessage(content='1855', name='addition')]}\n",
      "\n",
      "---\n",
      "\n",
      "Output from node 'agent':\n",
      "---\n",
      "{'messages': [AIMessage(content='', additional_kwargs={'function_call': {'arguments': '{\"result\":1855,\"explanation\":\"The product of 37 and 49 is 1813. Adding 42 to the product gives us a final result of 1855.\"}', 'name': 'Response'}}, response_metadata={'finish_reason': 'function_call'}, id='run-cab218dc-cf7a-4b40-a498-2d668e7be2e8-0')]}\n",
      "\n",
      "---\n",
      "\n"
     ]
    }
   ],
   "source": [
    "from langchain_core.messages import HumanMessage\n",
    "\n",
    "inputs = {\n",
    "    \"messages\": [HumanMessage(content=\"what is the product of 37 and 49 plus 42?\")]\n",
    "}\n",
    "\n",
    "for output in app.stream(inputs):\n",
    "    \n",
    "    for key, value in output.items():\n",
    "        print(f\"Output from node '{key}':\")\n",
    "        print(\"---\")\n",
    "        print(value)\n",
    "    print(\"\\n---\\n\")"
   ]
  },
  {
   "cell_type": "code",
   "execution_count": 39,
   "metadata": {},
   "outputs": [],
   "source": [
    "output = app.invoke({\"messages\":[HumanMessage(content=\"What is 100+2\")]})"
   ]
  },
  {
   "cell_type": "code",
   "execution_count": 40,
   "metadata": {},
   "outputs": [
    {
     "data": {
      "text/plain": [
       "{'messages': [HumanMessage(content='What is 100+2'),\n",
       "  AIMessage(content='', additional_kwargs={'function_call': {'arguments': '{\"a\":100,\"b\":2}', 'name': 'addition'}}, response_metadata={'finish_reason': 'function_call'}, id='run-34164fc4-5984-4ac8-97b8-8d55f642542b-0'),\n",
       "  FunctionMessage(content='102', name='addition'),\n",
       "  AIMessage(content='', additional_kwargs={'function_call': {'arguments': '{\"result\":102,\"explanation\":\"The sum of 100 and 2 is 102.\"}', 'name': 'Response'}}, response_metadata={'finish_reason': 'function_call'}, id='run-2d3f59ad-108c-4c8b-b148-6601eb76d7d8-0')]}"
      ]
     },
     "execution_count": 40,
     "metadata": {},
     "output_type": "execute_result"
    }
   ],
   "source": [
    "output"
   ]
  },
  {
   "cell_type": "code",
   "execution_count": 53,
   "metadata": {},
   "outputs": [
    {
     "name": "stdout",
     "output_type": "stream",
     "text": [
      "                    +-----------+             \n",
      "                    | __start__ |             \n",
      "                    +-----------+             \n",
      "                          *                   \n",
      "                          *                   \n",
      "                          *                   \n",
      "                      +-------+               \n",
      "                      | agent |               \n",
      "                     *+-------+*              \n",
      "                   **           ***           \n",
      "                 **                **         \n",
      "               **                    **       \n",
      "+-----------------------+              **     \n",
      "| agent_should_continue |               *     \n",
      "+-----------------------+               *     \n",
      "            *           *****           *     \n",
      "            *                ****       *     \n",
      "            *                    ***    *     \n",
      "       +---------+                +--------+  \n",
      "       | __end__ |                | action |  \n",
      "       +---------+                +--------+  \n"
     ]
    }
   ],
   "source": [
    "app.get_graph().print_ascii()"
   ]
  },
  {
   "cell_type": "code",
   "execution_count": null,
   "metadata": {},
   "outputs": [],
   "source": []
  }
 ],
 "metadata": {
  "kernelspec": {
   "display_name": ".venv",
   "language": "python",
   "name": "python3"
  },
  "language_info": {
   "codemirror_mode": {
    "name": "ipython",
    "version": 3
   },
   "file_extension": ".py",
   "mimetype": "text/x-python",
   "name": "python",
   "nbconvert_exporter": "python",
   "pygments_lexer": "ipython3",
   "version": "3.11.9"
  }
 },
 "nbformat": 4,
 "nbformat_minor": 2
}
